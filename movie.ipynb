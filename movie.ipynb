{
 "cells": [
  {
   "cell_type": "code",
   "outputs": [],
   "source": [
    "import pandas as pd\n",
    "import numpy as np\n",
    "from scipy.sparse import coo_matrix \n",
    "from sklearn.decomposition import NMF\n",
    "from sklearn.metrics import mean_squared_error"
   ],
   "metadata": {
    "collapsed": false,
    "ExecuteTime": {
     "end_time": "2024-03-20T13:26:00.110820Z",
     "start_time": "2024-03-20T13:26:00.105757Z"
    }
   },
   "id": "7541dc79bf599ff5",
   "execution_count": 4
  },
  {
   "cell_type": "code",
   "execution_count": 5,
   "id": "initial_id",
   "metadata": {
    "collapsed": true,
    "ExecuteTime": {
     "end_time": "2024-03-20T13:26:00.357898Z",
     "start_time": "2024-03-20T13:26:00.252225Z"
    }
   },
   "outputs": [],
   "source": [
    "MV_users = pd.read_csv('movie_data/users.csv')\n",
    "MV_movies = pd.read_csv('movie_data/movies.csv')\n",
    "train = pd.read_csv('movie_data/train.csv')\n",
    "test = pd.read_csv('movie_data/test.csv')"
   ]
  },
  {
   "cell_type": "code",
   "outputs": [],
   "source": [
    "from collections import namedtuple\n",
    "Data = namedtuple('Data', ['users','movies','train','test'])\n",
    "data = Data(MV_users, MV_movies, train, test)"
   ],
   "metadata": {
    "collapsed": false,
    "ExecuteTime": {
     "end_time": "2024-03-20T13:26:00.460627Z",
     "start_time": "2024-03-20T13:26:00.458475Z"
    }
   },
   "id": "a7bace416ff57291",
   "execution_count": 6
  },
  {
   "cell_type": "code",
   "outputs": [],
   "source": [
    "class RecSys():\n",
    "    def __init__(self,data):\n",
    "        self.data=data\n",
    "        self.allusers = list(self.data.users['uID'])\n",
    "        self.allmovies = list(self.data.movies['mID'])\n",
    "        self.genres = list(self.data.movies.columns.drop(['mID', 'title', 'year']))\n",
    "        self.mid2idx = dict(zip(self.data.movies.mID,list(range(len(self.data.movies)))))\n",
    "        self.uid2idx = dict(zip(self.data.users.uID,list(range(len(self.data.users)))))\n",
    "        self.Mr=self.rating_matrix()\n",
    "        self.Mm=None \n",
    "        self.sim=np.zeros((len(self.allmovies),len(self.allmovies)))\n",
    "        \n",
    "    def rating_matrix(self):\n",
    "        \"\"\"\n",
    "        Convert the rating matrix to numpy array of shape (#allusers,#allmovies)\n",
    "        \"\"\"\n",
    "        ind_movie = [self.mid2idx[x] for x in self.data.train.mID] \n",
    "        ind_user = [self.uid2idx[x] for x in self.data.train.uID]\n",
    "        rating_train = list(self.data.train.rating)\n",
    "        \n",
    "        return np.array(coo_matrix((rating_train, (ind_user, ind_movie)), shape=(len(self.allusers), len(self.allmovies))).toarray())\n",
    "\n",
    "\n",
    "    def predict_everything_to_3(self):\n",
    "        \"\"\"\n",
    "        Predict everything to 3 for the test data\n",
    "        \"\"\"\n",
    "        # Generate an array with 3s against all entries in test dataset\n",
    "        # your code here\n",
    "        return np.full(len(self.data.test), 3)\n",
    "        \n",
    "        \n",
    "    def predict_to_user_average(self):\n",
    "        \"\"\"\n",
    "        Predict to average rating for the user.\n",
    "        Returns numpy array of shape (#users,)\n",
    "        \"\"\"\n",
    "        # Generate an array as follows:\n",
    "        # 1. Calculate all avg user rating as sum of ratings of user across all movies/number of movies whose rating > 0\n",
    "        # 2. Return the average rating of users in test data\n",
    "        # your code here\n",
    "        user_avg_ratings = np.zeros(len(self.allusers))\n",
    "        for i in range(len(self.allusers)):\n",
    "            user_ratings = self.Mr[i]\n",
    "            rated_movies = user_ratings[user_ratings > 0]\n",
    "            if rated_movies.size > 0:\n",
    "                user_avg_ratings[i] = rated_movies.mean()\n",
    "            else:\n",
    "                user_avg_ratings[i] = 3  \n",
    "                \n",
    "        # Get average ratings for users in test data\n",
    "        test_user_indices = [self.uid2idx[u] for u in self.data.test.uID]\n",
    "        test_user_avg_ratings = user_avg_ratings[test_user_indices]\n",
    "        \n",
    "        return test_user_avg_ratings\n",
    "    \n",
    "    def predict_from_sim(self,uid,mid):\n",
    "        \"\"\"\n",
    "        Predict a user rating on a movie given userID and movieID\n",
    "        \"\"\"\n",
    "        # Predict user rating as follows:\n",
    "        # 1. Get entry of user id in rating matrix\n",
    "        # 2. Get entry of movie id in sim matrix\n",
    "        # 3. Employ 1 and 2 to predict user rating of the movie\n",
    "        # your code here\n",
    "        user_idx = self.uid2idx[uid]\n",
    "        movie_idx = self.mid2idx[mid]\n",
    "        user_ratings = self.Mr[user_idx]\n",
    "        sim_scores = self.sim[movie_idx]\n",
    "\n",
    "        valid_scores = sim_scores > 0\n",
    "        valid_ratings = user_ratings > 0\n",
    "        valid = valid_scores & valid_ratings\n",
    "\n",
    "        if not valid.any():\n",
    "            return 3\n",
    "\n",
    "        weighted_ratings = np.dot(user_ratings[valid], sim_scores[valid])\n",
    "        norm = np.sum(sim_scores[valid])\n",
    "\n",
    "        if norm > 0:\n",
    "            return weighted_ratings / norm\n",
    "        else:\n",
    "            return 3\n",
    "    \n",
    "    def predict(self):\n",
    "        \"\"\"\n",
    "        Predict ratings in the test data. Returns predicted rating in a numpy array of size (# of rows in testdata,)\n",
    "        \"\"\"\n",
    "        # your code here\n",
    "        predictions = []\n",
    "        for _, row in self.data.test.iterrows():\n",
    "            uid, mid = row['uID'], row['mID']\n",
    "            prediction = self.predict_from_sim(uid, mid)\n",
    "            predictions.append(prediction)\n",
    "        return np.array(predictions)\n",
    "    \n",
    "    def rmse(self,yp):\n",
    "        yp[np.isnan(yp)]=3 #In case there is nan values in prediction, it will impute to 3.\n",
    "        yt=np.array(self.data.test.rating)\n",
    "        return np.sqrt(((yt-yp)**2).mean())"
   ],
   "metadata": {
    "collapsed": false,
    "ExecuteTime": {
     "end_time": "2024-03-20T13:26:00.650268Z",
     "start_time": "2024-03-20T13:26:00.641652Z"
    }
   },
   "id": "a937744d8921920",
   "execution_count": 7
  },
  {
   "cell_type": "code",
   "outputs": [],
   "source": [
    "# Creating Sample test data\n",
    "np.random.seed(42)\n",
    "sample_train = train[:30000]\n",
    "sample_test = test[:30000]\n",
    "\n",
    "\n",
    "sample_MV_users = MV_users[(MV_users.uID.isin(sample_train.uID)) | (MV_users.uID.isin(sample_test.uID))]\n",
    "sample_MV_movies = MV_movies[(MV_movies.mID.isin(sample_train.mID)) | (MV_movies.mID.isin(sample_test.mID))]\n",
    "\n",
    "\n",
    "sample_data = Data(sample_MV_users, sample_MV_movies, sample_train, sample_test)"
   ],
   "metadata": {
    "collapsed": false,
    "ExecuteTime": {
     "end_time": "2024-03-20T13:26:00.833841Z",
     "start_time": "2024-03-20T13:26:00.827733Z"
    }
   },
   "id": "7740cef4401d41a6",
   "execution_count": 8
  },
  {
   "cell_type": "code",
   "outputs": [
    {
     "name": "stdout",
     "output_type": "stream",
     "text": [
      "1.2642784503423288\n"
     ]
    }
   ],
   "source": [
    "sample_rs = RecSys(sample_data)\n",
    "sample_yp = sample_rs.predict_everything_to_3()\n",
    "print(sample_rs.rmse(sample_yp))"
   ],
   "metadata": {
    "collapsed": false,
    "ExecuteTime": {
     "end_time": "2024-03-20T13:26:01.071952Z",
     "start_time": "2024-03-20T13:26:01.027611Z"
    }
   },
   "id": "d2415934a254e809",
   "execution_count": 9
  },
  {
   "cell_type": "code",
   "outputs": [
    {
     "name": "stdout",
     "output_type": "stream",
     "text": [
      "1.2585510334053043\n"
     ]
    }
   ],
   "source": [
    "rs = RecSys(data)\n",
    "yp = rs.predict_everything_to_3()\n",
    "print(rs.rmse(yp))"
   ],
   "metadata": {
    "collapsed": false,
    "ExecuteTime": {
     "end_time": "2024-03-20T13:26:08.193146Z",
     "start_time": "2024-03-20T13:26:07.911104Z"
    }
   },
   "id": "fb38867b757045bf",
   "execution_count": 10
  },
  {
   "cell_type": "code",
   "outputs": [
    {
     "name": "stdout",
     "output_type": "stream",
     "text": [
      "1.1429596846619763\n"
     ]
    }
   ],
   "source": [
    "sample_yp = sample_rs.predict_to_user_average()\n",
    "print(sample_rs.rmse(sample_yp))"
   ],
   "metadata": {
    "collapsed": false,
    "ExecuteTime": {
     "end_time": "2024-03-20T13:26:08.281196Z",
     "start_time": "2024-03-20T13:26:08.241186Z"
    }
   },
   "id": "d2bd4e2b1472fb17",
   "execution_count": 11
  },
  {
   "cell_type": "code",
   "outputs": [
    {
     "name": "stdout",
     "output_type": "stream",
     "text": [
      "1.0352910334228647\n"
     ]
    }
   ],
   "source": [
    "yp = rs.predict_to_user_average()\n",
    "print(rs.rmse(yp))"
   ],
   "metadata": {
    "collapsed": false,
    "ExecuteTime": {
     "end_time": "2024-03-20T13:26:08.642987Z",
     "start_time": "2024-03-20T13:26:08.544346Z"
    }
   },
   "id": "3df44e6558639228",
   "execution_count": 12
  },
  {
   "cell_type": "code",
   "outputs": [
    {
     "name": "stdout",
     "output_type": "stream",
     "text": [
      "3.7284246943887047\n"
     ]
    }
   ],
   "source": [
    "class NMFRecSys(RecSys):\n",
    "    def __init__(self, data, n_components=5, init='random', random_state=0):\n",
    "        super().__init__(data)\n",
    "        self.n_components = n_components\n",
    "        self.model = NMF(n_components=n_components, init=init, random_state=random_state)\n",
    "\n",
    "    def fit(self):\n",
    "        self.user_features = self.model.fit_transform(self.Mr)\n",
    "        self.item_features = self.model.components_\n",
    "\n",
    "    def predict_ratings(self):\n",
    "        return np.dot(self.user_features, self.item_features)\n",
    "\n",
    "    def predict(self):\n",
    "        predicted_ratings = self.predict_ratings()\n",
    "        predictions = []\n",
    "        for _, row in self.data.test.iterrows():\n",
    "            uid, mid = row['uID'], row['mID']\n",
    "            user_idx = self.uid2idx[uid]\n",
    "            movie_idx = self.mid2idx[mid]\n",
    "            prediction = predicted_ratings[user_idx, movie_idx]\n",
    "            predictions.append(prediction)\n",
    "        return np.array(predictions)\n",
    "\n",
    "    def rmse(self, yp):\n",
    "        yp[np.isnan(yp)] = 3\n",
    "        yt = np.array(self.data.test.rating)\n",
    "        return np.sqrt(mean_squared_error(yt, yp))\n",
    "\n",
    "nmf_rs = NMFRecSys(sample_data)\n",
    "nmf_rs.fit()\n",
    "nmf_predictions = nmf_rs.predict()\n",
    "print(nmf_rs.rmse(nmf_predictions))"
   ],
   "metadata": {
    "collapsed": false,
    "ExecuteTime": {
     "end_time": "2024-03-20T13:36:07.900676Z",
     "start_time": "2024-03-20T13:36:04.320299Z"
    }
   },
   "id": "cd187154f872f4ab",
   "execution_count": 14
  },
  {
   "cell_type": "code",
   "outputs": [],
   "source": [],
   "metadata": {
    "collapsed": false
   },
   "id": "1751790d540ced51"
  }
 ],
 "metadata": {
  "kernelspec": {
   "display_name": "Python 3",
   "language": "python",
   "name": "python3"
  },
  "language_info": {
   "codemirror_mode": {
    "name": "ipython",
    "version": 2
   },
   "file_extension": ".py",
   "mimetype": "text/x-python",
   "name": "python",
   "nbconvert_exporter": "python",
   "pygments_lexer": "ipython2",
   "version": "2.7.6"
  }
 },
 "nbformat": 4,
 "nbformat_minor": 5
}
