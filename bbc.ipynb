{
 "cells": [
  {
   "cell_type": "code",
   "outputs": [],
   "source": [
    "# data visualization\n",
    "import matplotlib.pyplot as plt\n",
    "import seaborn as sns\n",
    "\n",
    "# general data processing\n",
    "import pandas as pd\n",
    "import numpy as np\n",
    "\n",
    "# text processing\n",
    "import re\n",
    "from nltk.corpus import stopwords\n",
    "from nltk.stem import WordNetLemmatizer\n",
    "from nltk.tokenize import word_tokenize\n",
    "\n",
    "# ML modeling\n",
    "from sklearn.metrics import confusion_matrix\n",
    "from sklearn.svm import SVC\n",
    "from sklearn.ensemble import RandomForestClassifier\n",
    "from sklearn.metrics import accuracy_score\n",
    "from sklearn.preprocessing import LabelEncoder\n",
    "from sklearn.feature_extraction.text import TfidfVectorizer\n",
    "from sklearn.decomposition import NMF\n",
    "from sklearn.model_selection import train_test_split"
   ],
   "metadata": {
    "collapsed": false,
    "ExecuteTime": {
     "end_time": "2024-03-20T12:50:28.886624Z",
     "start_time": "2024-03-20T12:50:28.881756Z"
    }
   },
   "id": "e9c83da623ee7f43",
   "execution_count": 19
  },
  {
   "cell_type": "code",
   "outputs": [],
   "source": [
    "df_train = pd.read_csv(\"./learn-ai-bbc/BBC News Train.csv\")\n",
    "df_test = pd.read_csv(\"./learn-ai-bbc/BBC News Test.csv\")\n",
    "df_sample_solution = pd.read_csv(\"./learn-ai-bbc/BBC News Sample Solution.csv\")"
   ],
   "metadata": {
    "collapsed": false,
    "ExecuteTime": {
     "end_time": "2024-03-20T12:50:28.945339Z",
     "start_time": "2024-03-20T12:50:28.891764Z"
    }
   },
   "id": "664dd29a1f867650",
   "execution_count": 20
  },
  {
   "cell_type": "code",
   "outputs": [
    {
     "data": {
      "text/plain": "Index(['ArticleId', 'Text', 'Category'], dtype='object')"
     },
     "execution_count": 21,
     "metadata": {},
     "output_type": "execute_result"
    }
   ],
   "source": [
    "df_train.columns"
   ],
   "metadata": {
    "collapsed": false,
    "ExecuteTime": {
     "end_time": "2024-03-20T12:50:28.949567Z",
     "start_time": "2024-03-20T12:50:28.946792Z"
    }
   },
   "id": "f410ba0c03d41140",
   "execution_count": 21
  },
  {
   "cell_type": "code",
   "outputs": [
    {
     "data": {
      "text/plain": "array(['business', 'entertainment', 'politics', 'sport', 'tech'],\n      dtype=object)"
     },
     "execution_count": 22,
     "metadata": {},
     "output_type": "execute_result"
    }
   ],
   "source": [
    "np.unique(df_train.Category)"
   ],
   "metadata": {
    "collapsed": false,
    "ExecuteTime": {
     "end_time": "2024-03-20T12:50:28.953333Z",
     "start_time": "2024-03-20T12:50:28.950322Z"
    }
   },
   "id": "6ef979e8d80a7398",
   "execution_count": 22
  },
  {
   "cell_type": "code",
   "outputs": [
    {
     "data": {
      "text/plain": "      ArticleId                                               Text  \\\n0          1833  worldcom ex-boss launches defence lawyers defe...   \n1           154  german business confidence slides german busin...   \n2          1101  bbc poll indicates economic gloom citizens in ...   \n3          1976  lifestyle  governs mobile choice  faster  bett...   \n4           917  enron bosses in $168m payout eighteen former e...   \n...         ...                                                ...   \n1485        857  double eviction from big brother model caprice...   \n1486        325  dj double act revamp chart show dj duo jk and ...   \n1487       1590  weak dollar hits reuters revenues at media gro...   \n1488       1587  apple ipod family expands market apple has exp...   \n1489        538  santy worm makes unwelcome visit thousands of ...   \n\n           Category  \n0          business  \n1          business  \n2          business  \n3              tech  \n4          business  \n...             ...  \n1485  entertainment  \n1486  entertainment  \n1487       business  \n1488           tech  \n1489           tech  \n\n[1490 rows x 3 columns]",
      "text/html": "<div>\n<style scoped>\n    .dataframe tbody tr th:only-of-type {\n        vertical-align: middle;\n    }\n\n    .dataframe tbody tr th {\n        vertical-align: top;\n    }\n\n    .dataframe thead th {\n        text-align: right;\n    }\n</style>\n<table border=\"1\" class=\"dataframe\">\n  <thead>\n    <tr style=\"text-align: right;\">\n      <th></th>\n      <th>ArticleId</th>\n      <th>Text</th>\n      <th>Category</th>\n    </tr>\n  </thead>\n  <tbody>\n    <tr>\n      <th>0</th>\n      <td>1833</td>\n      <td>worldcom ex-boss launches defence lawyers defe...</td>\n      <td>business</td>\n    </tr>\n    <tr>\n      <th>1</th>\n      <td>154</td>\n      <td>german business confidence slides german busin...</td>\n      <td>business</td>\n    </tr>\n    <tr>\n      <th>2</th>\n      <td>1101</td>\n      <td>bbc poll indicates economic gloom citizens in ...</td>\n      <td>business</td>\n    </tr>\n    <tr>\n      <th>3</th>\n      <td>1976</td>\n      <td>lifestyle  governs mobile choice  faster  bett...</td>\n      <td>tech</td>\n    </tr>\n    <tr>\n      <th>4</th>\n      <td>917</td>\n      <td>enron bosses in $168m payout eighteen former e...</td>\n      <td>business</td>\n    </tr>\n    <tr>\n      <th>...</th>\n      <td>...</td>\n      <td>...</td>\n      <td>...</td>\n    </tr>\n    <tr>\n      <th>1485</th>\n      <td>857</td>\n      <td>double eviction from big brother model caprice...</td>\n      <td>entertainment</td>\n    </tr>\n    <tr>\n      <th>1486</th>\n      <td>325</td>\n      <td>dj double act revamp chart show dj duo jk and ...</td>\n      <td>entertainment</td>\n    </tr>\n    <tr>\n      <th>1487</th>\n      <td>1590</td>\n      <td>weak dollar hits reuters revenues at media gro...</td>\n      <td>business</td>\n    </tr>\n    <tr>\n      <th>1488</th>\n      <td>1587</td>\n      <td>apple ipod family expands market apple has exp...</td>\n      <td>tech</td>\n    </tr>\n    <tr>\n      <th>1489</th>\n      <td>538</td>\n      <td>santy worm makes unwelcome visit thousands of ...</td>\n      <td>tech</td>\n    </tr>\n  </tbody>\n</table>\n<p>1490 rows × 3 columns</p>\n</div>"
     },
     "execution_count": 23,
     "metadata": {},
     "output_type": "execute_result"
    }
   ],
   "source": [
    "df_train"
   ],
   "metadata": {
    "collapsed": false,
    "ExecuteTime": {
     "end_time": "2024-03-20T12:50:28.960787Z",
     "start_time": "2024-03-20T12:50:28.955117Z"
    }
   },
   "id": "436579c48872aad0",
   "execution_count": 23
  },
  {
   "cell_type": "code",
   "outputs": [
    {
     "data": {
      "text/plain": "ArticleId    0\nText         0\nCategory     0\ndtype: int64"
     },
     "execution_count": 24,
     "metadata": {},
     "output_type": "execute_result"
    }
   ],
   "source": [
    "df_train.isnull().sum()"
   ],
   "metadata": {
    "collapsed": false,
    "ExecuteTime": {
     "end_time": "2024-03-20T12:50:28.964916Z",
     "start_time": "2024-03-20T12:50:28.961671Z"
    }
   },
   "id": "a9a9483d619166c9",
   "execution_count": 24
  },
  {
   "cell_type": "code",
   "outputs": [
    {
     "data": {
      "text/plain": "<Figure size 1000x600 with 1 Axes>",
      "image/png": "[encoded data removed]"
     },
     "metadata": {},
     "output_type": "display_data"
    }
   ],
   "source": [
    "plt.figure(figsize=(10, 6))\n",
    "sns.countplot(data=df_train, x=\"Category\")\n",
    "plt.title(\"Number of Articles by Category\")\n",
    "plt.show()"
   ],
   "metadata": {
    "collapsed": false,
    "ExecuteTime": {
     "end_time": "2024-03-20T12:50:29.053723Z",
     "start_time": "2024-03-20T12:50:28.965621Z"
    }
   },
   "id": "3c2596a56d63b300",
   "execution_count": 25
  },
  {
   "cell_type": "code",
   "outputs": [
    {
     "data": {
      "text/plain": "<Figure size 1000x600 with 1 Axes>",
      "image/png": "[encoded data removed]"
     },
     "metadata": {},
     "output_type": "display_data"
    }
   ],
   "source": [
    "df_train[\"Text_Length\"] = df_train[\"Text\"].apply(len)\n",
    "\n",
    "plt.figure(figsize=(10, 6))\n",
    "sns.histplot(data=df_train, x=\"Text_Length\", bins=30, kde=True)\n",
    "plt.title(\"Text Length of Articles\")\n",
    "plt.show()"
   ],
   "metadata": {
    "collapsed": false,
    "ExecuteTime": {
     "end_time": "2024-03-20T12:50:29.239646Z",
     "start_time": "2024-03-20T12:50:29.054752Z"
    }
   },
   "id": "145cb79db7276b5",
   "execution_count": 26
  },
  {
   "cell_type": "code",
   "outputs": [],
   "source": [
    "# if nltk package is not installed, run the following commands\n",
    "# nltk.download(\"punkt\")\n",
    "# nltk.download(\"stopwords\")\n",
    "# nltk.download(\"wordnet\")\n",
    "\n",
    "def clean_text(text):\n",
    "    # remove punctuation and numbers\n",
    "    text = re.sub(\"[^a-zA-Z]\", \" \", text)\n",
    "    # convert text to lowercase\n",
    "    text = text.lower()\n",
    "    # remove stop words\n",
    "    stop_words = set(stopwords.words(\"english\"))\n",
    "    lemmatizer = WordNetLemmatizer()\n",
    "    words = word_tokenize(text)\n",
    "    # lemmatize the words\n",
    "    cleaned_text = \" \".join([lemmatizer.lemmatize(word) for word in words if word not in stop_words])\n",
    "    return cleaned_text"
   ],
   "metadata": {
    "collapsed": false,
    "ExecuteTime": {
     "end_time": "2024-03-20T12:50:29.250839Z",
     "start_time": "2024-03-20T12:50:29.243187Z"
    }
   },
   "id": "c2db294cc6972b5f",
   "execution_count": 27
  },
  {
   "cell_type": "code",
   "outputs": [],
   "source": [
    "def train_evaluate_unsupervised_model(fractions, n_components, max_features):\n",
    "    results = []\n",
    "    tfidf_vectorizer = TfidfVectorizer(max_features=max_features)\n",
    "    X_data = tfidf_vectorizer.fit_transform(df_train['Cleaned_Text'])\n",
    "    label_encoder = LabelEncoder()\n",
    "    y_data = label_encoder.fit_transform(df_train['Category'])\n",
    "    for frac in fractions:\n",
    "        X_train_frac, X_val, y_train_frac, y_val = train_test_split(X_data, y_data, train_size=frac, random_state=0)\n",
    "        nmf_model = NMF(n_components=n_components)\n",
    "        W_train = nmf_model.fit_transform(X_train_frac)\n",
    "        W_val = nmf_model.transform(X_val)\n",
    "\n",
    "        # mapping topics to categories\n",
    "        topic_category_mapping = np.argmax(W_train.T @ np.eye(len(np.unique(y_train_frac)))[y_train_frac], axis=1)\n",
    "\n",
    "        # training accuracy\n",
    "        dominant_topics_train = np.argmax(W_train, axis=1)\n",
    "        predicted_train_categories = topic_category_mapping[dominant_topics_train]\n",
    "        train_accuracy = accuracy_score(y_train_frac, predicted_train_categories)\n",
    "\n",
    "        # validation accuracy\n",
    "        dominant_topics_val = np.argmax(W_val, axis=1)\n",
    "        predicted_val_categories = topic_category_mapping[dominant_topics_val]\n",
    "        val_accuracy = accuracy_score(y_val, predicted_val_categories)\n",
    "\n",
    "        results.append({\n",
    "            'fraction': frac,\n",
    "            'n_components': n_components,\n",
    "            'max_features': max_features,\n",
    "            'train_accuracy': train_accuracy,\n",
    "            'val_accuracy': val_accuracy\n",
    "        })\n",
    "    return results"
   ],
   "metadata": {
    "collapsed": false,
    "ExecuteTime": {
     "end_time": "2024-03-20T12:50:29.260696Z",
     "start_time": "2024-03-20T12:50:29.254741Z"
    }
   },
   "id": "1b4bc74b3edce55a",
   "execution_count": 28
  },
  {
   "cell_type": "code",
   "outputs": [],
   "source": [
    "def train_evaluate_supervised_models(fractions, max_features):\n",
    "    results = []\n",
    "    tfidf_vectorizer = TfidfVectorizer(max_features=max_features)\n",
    "    X_data = tfidf_vectorizer.fit_transform(df_train['Cleaned_Text'])\n",
    "    label_encoder = LabelEncoder()\n",
    "    y_data = label_encoder.fit_transform(df_train['Category'])\n",
    "    for frac in fractions:\n",
    "        X_train_frac, X_val, y_train_frac, y_val = train_test_split(X_data, y_data, train_size=frac, random_state=0)\n",
    "        \n",
    "        # SVM \n",
    "        svm_model = SVC()\n",
    "        svm_model.fit(X_train_frac, y_train_frac)\n",
    "        y_pred_svm_train = svm_model.predict(X_train_frac)\n",
    "        y_pred_svm_val = svm_model.predict(X_val)\n",
    "        train_accuracy_svm = accuracy_score(y_train_frac, y_pred_svm_train)\n",
    "        val_accuracy_svm = accuracy_score(y_val, y_pred_svm_val)\n",
    "        \n",
    "        # Random Forest\n",
    "        rf_model = RandomForestClassifier(n_estimators=100)\n",
    "        rf_model.fit(X_train_frac, y_train_frac)\n",
    "        y_pred_rf_train = rf_model.predict(X_train_frac)\n",
    "        y_pred_rf_val = rf_model.predict(X_val)\n",
    "        train_accuracy_rf = accuracy_score(y_train_frac, y_pred_rf_train)\n",
    "        val_accuracy_rf = accuracy_score(y_val, y_pred_rf_val)\n",
    "\n",
    "        results.append({\n",
    "            'fraction': frac,\n",
    "            'model': 'SVM',\n",
    "            'train_accuracy': train_accuracy_svm,\n",
    "            'val_accuracy': val_accuracy_svm\n",
    "        })\n",
    "        results.append({\n",
    "            'fraction': frac,\n",
    "            'model': 'Random Forest',\n",
    "            'train_accuracy': train_accuracy_rf,\n",
    "            'val_accuracy': val_accuracy_rf\n",
    "        })\n",
    "        \n",
    "    return results"
   ],
   "metadata": {
    "collapsed": false,
    "ExecuteTime": {
     "end_time": "2024-03-20T12:50:29.290102Z",
     "start_time": "2024-03-20T12:50:29.284497Z"
    }
   },
   "id": "13c357f159f57061",
   "execution_count": 29
  },
  {
   "cell_type": "code",
   "outputs": [],
   "source": [
    "def plot_confusion_matrix(y_true, y_pred, labels):\n",
    "    cm = confusion_matrix(y_true, y_pred)\n",
    "    plt.figure(figsize=(10, 6))\n",
    "    sns.heatmap(cm, annot=True, fmt=\"d\", cmap=\"Blues\", xticklabels=labels, yticklabels=labels)\n",
    "    plt.xlabel(\"Predicted\")\n",
    "    plt.ylabel(\"True\")\n",
    "    plt.title(\"Confusion Matrix\")\n",
    "    plt.show()"
   ],
   "metadata": {
    "collapsed": false,
    "ExecuteTime": {
     "end_time": "2024-03-20T12:50:29.298748Z",
     "start_time": "2024-03-20T12:50:29.292886Z"
    }
   },
   "id": "479ecacb9feb4fb1",
   "execution_count": 30
  },
  {
   "cell_type": "code",
   "outputs": [],
   "source": [
    "df_train[\"Cleaned_Text\"] = df_train[\"Text\"].apply(clean_text)"
   ],
   "metadata": {
    "collapsed": false,
    "ExecuteTime": {
     "end_time": "2024-03-20T12:50:31.271588Z",
     "start_time": "2024-03-20T12:50:29.301065Z"
    }
   },
   "id": "86d8e2b712845437",
   "execution_count": 31
  },
  {
   "cell_type": "code",
   "outputs": [
    {
     "name": "stdout",
     "output_type": "stream",
     "text": [
      "    fraction  n_components  max_features  train_accuracy  val_accuracy\n",
      "0        0.1             5          1000        0.778523      0.744221\n",
      "1        0.2             5          1000        0.842282      0.835570\n",
      "2        0.5             5          1000        0.911409      0.897987\n",
      "3        0.8             5          1000        0.896812      0.879195\n",
      "4        0.1            10          1000        0.919463      0.901566\n",
      "5        0.2            10          1000        0.916107      0.904362\n",
      "6        0.5            10          1000        0.915436      0.902013\n",
      "7        0.8            10          1000        0.912752      0.919463\n",
      "8        0.1             5          2000        0.932886      0.898583\n",
      "9        0.2             5          2000        0.852349      0.863255\n",
      "10       0.5             5          2000        0.916779      0.906040\n",
      "11       0.8             5          2000        0.912752      0.899329\n",
      "12       0.1            10          2000        0.939597      0.888889\n",
      "13       0.2            10          2000        0.895973      0.897651\n",
      "14       0.5            10          2000        0.912752      0.902013\n",
      "15       0.8            10          2000        0.925336      0.919463\n"
     ]
    }
   ],
   "source": [
    "experiment_results = []\n",
    "# define parameters for comparison\n",
    "experiments = [\n",
    "    {'n_components': 5, 'max_features': 1000},\n",
    "    {'n_components': 10, 'max_features': 1000},\n",
    "    {'n_components': 5, 'max_features': 2000},\n",
    "    {'n_components': 10, 'max_features': 2000},\n",
    "]\n",
    "fractions = [0.1, 0.2, 0.5, 0.8]\n",
    "\n",
    "for exp in experiments:\n",
    "    exp_results = train_evaluate_unsupervised_model(fractions, **exp)\n",
    "    experiment_results.extend(exp_results)\n",
    "\n",
    "# visualize the results\n",
    "results_df = pd.DataFrame(experiment_results)\n",
    "print(results_df)"
   ],
   "metadata": {
    "collapsed": false,
    "ExecuteTime": {
     "end_time": "2024-03-20T12:50:32.938254Z",
     "start_time": "2024-03-20T12:50:31.272370Z"
    }
   },
   "id": "58565f2216dba52f",
   "execution_count": 32
  },
  {
   "cell_type": "code",
   "outputs": [
    {
     "name": "stdout",
     "output_type": "stream",
     "text": [
      "    fraction          model  train_accuracy  val_accuracy\n",
      "0        0.1            SVM        1.000000      0.912752\n",
      "1        0.1  Random Forest        1.000000      0.884415\n",
      "2        0.2            SVM        1.000000      0.951342\n",
      "3        0.2  Random Forest        1.000000      0.917785\n",
      "4        0.5            SVM        0.998658      0.958389\n",
      "5        0.5  Random Forest        1.000000      0.944966\n",
      "6        0.8            SVM        1.000000      0.973154\n",
      "7        0.8  Random Forest        1.000000      0.969799\n",
      "8        0.1            SVM        1.000000      0.889635\n",
      "9        0.1  Random Forest        1.000000      0.886652\n",
      "10       0.2            SVM        1.000000      0.954698\n",
      "11       0.2  Random Forest        1.000000      0.922819\n",
      "12       0.5            SVM        1.000000      0.963758\n",
      "13       0.5  Random Forest        1.000000      0.943624\n",
      "14       0.8            SVM        0.999161      0.979866\n",
      "15       0.8  Random Forest        1.000000      0.963087\n"
     ]
    }
   ],
   "source": [
    "experiment_results = []\n",
    "fractions = [0.1, 0.2, 0.5, 0.8]\n",
    "experiments = [\n",
    "    {'max_features': 1000},\n",
    "    {'max_features': 2000},\n",
    "]\n",
    "for exp in experiments:\n",
    "    exp_results = train_evaluate_supervised_models(fractions, **exp)\n",
    "    experiment_results.extend(exp_results)\n",
    "results_df = pd.DataFrame(experiment_results)\n",
    "\n",
    "print(results_df)"
   ],
   "metadata": {
    "collapsed": false,
    "ExecuteTime": {
     "end_time": "2024-03-20T12:50:42.495324Z",
     "start_time": "2024-03-20T12:50:32.981468Z"
    }
   },
   "id": "c6e84fdbdc7c8d76",
   "execution_count": 33
  }
 ],
 "metadata": {
  "kernelspec": {
   "display_name": "Python 3 (ipykernel)",
   "language": "python",
   "name": "python3"
  },
  "language_info": {
   "codemirror_mode": {
    "name": "ipython",
    "version": 3
   },
   "file_extension": ".py",
   "mimetype": "text/x-python",
   "name": "python",
   "nbconvert_exporter": "python",
   "pygments_lexer": "ipython3",
   "version": "3.11.3"
  }
 },
 "nbformat": 4,
 "nbformat_minor": 5
}
