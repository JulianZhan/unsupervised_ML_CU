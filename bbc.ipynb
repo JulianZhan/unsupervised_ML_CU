{
 "cells": [
  {
   "cell_type": "code",
   "execution_count": 42,
   "id": "401a70a8",
   "metadata": {
    "ExecuteTime": {
     "end_time": "2024-03-19T14:26:52.047464Z",
     "start_time": "2024-03-19T14:26:52.042302Z"
    }
   },
   "outputs": [],
   "source": [
    "# data visualization\n",
    "import matplotlib.pyplot as plt\n",
    "import seaborn as sns\n",
    "\n",
    "# general data processing\n",
    "import pandas as pd\n",
    "import numpy as np\n",
    "\n",
    "# text processing\n",
    "import re\n",
    "from nltk.corpus import stopwords\n",
    "from nltk.stem import WordNetLemmatizer\n",
    "from nltk.tokenize import word_tokenize\n",
    "\n",
    "# ML modeling\n",
    "from sklearn.metrics import confusion_matrix\n",
    "from sklearn.svm import SVC\n",
    "from sklearn.ensemble import RandomForestClassifier\n",
    "from sklearn.metrics import accuracy_score\n",
    "from sklearn.preprocessing import LabelEncoder\n",
    "from sklearn.feature_extraction.text import TfidfVectorizer\n",
    "from sklearn.decomposition import NMF\n",
    "from sklearn.model_selection import train_test_split"
   ]
  },
  {
   "cell_type": "code",
   "outputs": [],
   "source": [
    "df_train = pd.read_csv(\"./learn-ai-bbc/BBC News Train.csv\")\n",
    "df_test = pd.read_csv(\"./learn-ai-bbc/BBC News Test.csv\")\n",
    "df_sample_solution = pd.read_csv(\"./learn-ai-bbc/BBC News Sample Solution.csv\")"
   ],
   "metadata": {
    "collapsed": false,
    "ExecuteTime": {
     "end_time": "2024-03-19T14:04:20.722302Z",
     "start_time": "2024-03-19T14:04:20.670033Z"
    }
   },
   "id": "664dd29a1f867650",
   "execution_count": 32
  },
  {
   "cell_type": "code",
   "outputs": [
    {
     "data": {
      "text/plain": "Index(['ArticleId', 'Text', 'Category'], dtype='object')"
     },
     "execution_count": 33,
     "metadata": {},
     "output_type": "execute_result"
    }
   ],
   "source": [
    "df_train.columns"
   ],
   "metadata": {
    "collapsed": false,
    "ExecuteTime": {
     "end_time": "2024-03-19T14:04:20.853627Z",
     "start_time": "2024-03-19T14:04:20.850767Z"
    }
   },
   "id": "f410ba0c03d41140",
   "execution_count": 33
  },
  {
   "cell_type": "code",
   "outputs": [
    {
     "data": {
      "text/plain": "array(['business', 'entertainment', 'politics', 'sport', 'tech'],\n      dtype=object)"
     },
     "execution_count": 34,
     "metadata": {},
     "output_type": "execute_result"
    }
   ],
   "source": [
    "np.unique(df_train.Category)"
   ],
   "metadata": {
    "collapsed": false,
    "ExecuteTime": {
     "end_time": "2024-03-19T14:04:21.988699Z",
     "start_time": "2024-03-19T14:04:21.984610Z"
    }
   },
   "id": "6ef979e8d80a7398",
   "execution_count": 34
  },
  {
   "cell_type": "code",
   "outputs": [
    {
     "data": {
      "text/plain": "      ArticleId                                               Text  \\\n0          1833  worldcom ex-boss launches defence lawyers defe...   \n1           154  german business confidence slides german busin...   \n2          1101  bbc poll indicates economic gloom citizens in ...   \n3          1976  lifestyle  governs mobile choice  faster  bett...   \n4           917  enron bosses in $168m payout eighteen former e...   \n...         ...                                                ...   \n1485        857  double eviction from big brother model caprice...   \n1486        325  dj double act revamp chart show dj duo jk and ...   \n1487       1590  weak dollar hits reuters revenues at media gro...   \n1488       1587  apple ipod family expands market apple has exp...   \n1489        538  santy worm makes unwelcome visit thousands of ...   \n\n           Category  \n0          business  \n1          business  \n2          business  \n3              tech  \n4          business  \n...             ...  \n1485  entertainment  \n1486  entertainment  \n1487       business  \n1488           tech  \n1489           tech  \n\n[1490 rows x 3 columns]",
      "text/html": "<div>\n<style scoped>\n    .dataframe tbody tr th:only-of-type {\n        vertical-align: middle;\n    }\n\n    .dataframe tbody tr th {\n        vertical-align: top;\n    }\n\n    .dataframe thead th {\n        text-align: right;\n    }\n</style>\n<table border=\"1\" class=\"dataframe\">\n  <thead>\n    <tr style=\"text-align: right;\">\n      <th></th>\n      <th>ArticleId</th>\n      <th>Text</th>\n      <th>Category</th>\n    </tr>\n  </thead>\n  <tbody>\n    <tr>\n      <th>0</th>\n      <td>1833</td>\n      <td>worldcom ex-boss launches defence lawyers defe...</td>\n      <td>business</td>\n    </tr>\n    <tr>\n      <th>1</th>\n      <td>154</td>\n      <td>german business confidence slides german busin...</td>\n      <td>business</td>\n    </tr>\n    <tr>\n      <th>2</th>\n      <td>1101</td>\n      <td>bbc poll indicates economic gloom citizens in ...</td>\n      <td>business</td>\n    </tr>\n    <tr>\n      <th>3</th>\n      <td>1976</td>\n      <td>lifestyle  governs mobile choice  faster  bett...</td>\n      <td>tech</td>\n    </tr>\n    <tr>\n      <th>4</th>\n      <td>917</td>\n      <td>enron bosses in $168m payout eighteen former e...</td>\n      <td>business</td>\n    </tr>\n    <tr>\n      <th>...</th>\n      <td>...</td>\n      <td>...</td>\n      <td>...</td>\n    </tr>\n    <tr>\n      <th>1485</th>\n      <td>857</td>\n      <td>double eviction from big brother model caprice...</td>\n      <td>entertainment</td>\n    </tr>\n    <tr>\n      <th>1486</th>\n      <td>325</td>\n      <td>dj double act revamp chart show dj duo jk and ...</td>\n      <td>entertainment</td>\n    </tr>\n    <tr>\n      <th>1487</th>\n      <td>1590</td>\n      <td>weak dollar hits reuters revenues at media gro...</td>\n      <td>business</td>\n    </tr>\n    <tr>\n      <th>1488</th>\n      <td>1587</td>\n      <td>apple ipod family expands market apple has exp...</td>\n      <td>tech</td>\n    </tr>\n    <tr>\n      <th>1489</th>\n      <td>538</td>\n      <td>santy worm makes unwelcome visit thousands of ...</td>\n      <td>tech</td>\n    </tr>\n  </tbody>\n</table>\n<p>1490 rows × 3 columns</p>\n</div>"
     },
     "execution_count": 35,
     "metadata": {},
     "output_type": "execute_result"
    }
   ],
   "source": [
    "df_train"
   ],
   "metadata": {
    "collapsed": false,
    "ExecuteTime": {
     "end_time": "2024-03-19T14:04:22.928937Z",
     "start_time": "2024-03-19T14:04:22.922591Z"
    }
   },
   "id": "436579c48872aad0",
   "execution_count": 35
  },
  {
   "cell_type": "code",
   "outputs": [
    {
     "data": {
      "text/plain": "ArticleId    0\nText         0\nCategory     0\ndtype: int64"
     },
     "execution_count": 36,
     "metadata": {},
     "output_type": "execute_result"
    }
   ],
   "source": [
    "df_train.isnull().sum()"
   ],
   "metadata": {
    "collapsed": false,
    "ExecuteTime": {
     "end_time": "2024-03-19T14:04:32.274644Z",
     "start_time": "2024-03-19T14:04:32.268489Z"
    }
   },
   "id": "a9a9483d619166c9",
   "execution_count": 36
  },
  {
   "cell_type": "code",
   "outputs": [
    {
     "data": {
      "text/plain": "<Figure size 1000x600 with 1 Axes>",
      "image/png": "[encoded data removed]"
     },
     "metadata": {},
     "output_type": "display_data"
    }
   ],
   "source": [
    "plt.figure(figsize=(10, 6))\n",
    "sns.countplot(data=df_train, x=\"Category\")\n",
    "plt.title(\"Number of Articles by Category\")\n",
    "plt.show()"
   ],
   "metadata": {
    "collapsed": false,
    "ExecuteTime": {
     "end_time": "2024-03-19T14:04:35.481990Z",
     "start_time": "2024-03-19T14:04:35.387845Z"
    }
   },
   "id": "3c2596a56d63b300",
   "execution_count": 37
  },
  {
   "cell_type": "code",
   "outputs": [
    {
     "data": {
      "text/plain": "<Figure size 1000x600 with 1 Axes>",
      "image/png": "[encoded data removed]"
     },
     "metadata": {},
     "output_type": "display_data"
    }
   ],
   "source": [
    "df_train[\"Text Length\"] = df_train[\"Text\"].apply(len)\n",
    "\n",
    "plt.figure(figsize=(10, 6))\n",
    "sns.histplot(data=df_train, x=\"Text Length\", bins=30, kde=True)\n",
    "plt.title(\"Text Length of Articles\")\n",
    "plt.show()"
   ],
   "metadata": {
    "collapsed": false,
    "ExecuteTime": {
     "end_time": "2024-03-19T14:04:36.551503Z",
     "start_time": "2024-03-19T14:04:36.408285Z"
    }
   },
   "id": "145cb79db7276b5",
   "execution_count": 38
  },
  {
   "cell_type": "code",
   "outputs": [],
   "source": [
    "# if nltk package is not installed, run the following commands\n",
    "# nltk.download(\"punkt\")\n",
    "# nltk.download(\"stopwords\")\n",
    "# nltk.download(\"wordnet\")\n",
    "\n",
    "def clean_text(text):\n",
    "    # remove punctuation and numbers\n",
    "    text = re.sub(\"[^a-zA-Z]\", \" \", text)\n",
    "    # convert text to lowercase\n",
    "    text = text.lower()\n",
    "    # remove stop words\n",
    "    stop_words = set(stopwords.words(\"english\"))\n",
    "    lemmatizer = WordNetLemmatizer()\n",
    "    words = word_tokenize(text)\n",
    "    # lemmatize the words\n",
    "    cleaned_text = \" \".join([lemmatizer.lemmatize(word) for word in words if word not in stop_words])\n",
    "    return cleaned_text\n",
    "\n",
    "df_train[\"Cleaned_Text\"] = df_train[\"Text\"].apply(clean_text)"
   ],
   "metadata": {
    "collapsed": false,
    "ExecuteTime": {
     "end_time": "2024-03-19T14:05:23.904274Z",
     "start_time": "2024-03-19T14:05:22.006909Z"
    }
   },
   "id": "c2db294cc6972b5f",
   "execution_count": 41
  },
  {
   "cell_type": "code",
   "outputs": [],
   "source": [
    "def train_evaluate_unsupervised_models(X_data, y_data, fractions):\n",
    "    results = []\n",
    "    for frac in fractions:\n",
    "        X_train_frac, X_val, y_train_frac, y_val = train_test_split(X_data, y_data, train_size=frac)\n",
    "        nmf_model = NMF(n_components=5)\n",
    "        W_train = nmf_model.fit_transform(X_train_frac)\n",
    "        W_val = nmf_model.transform(X_val)\n",
    "        topic_category_mapping = np.argmax(W_train.T @ np.eye(len(np.unique(y_train_frac)))[y_train_frac], axis=1)\n",
    "        dominant_topics_val = np.argmax(W_val, axis=1)\n",
    "        predicted_categories = topic_category_mapping[dominant_topics_val]\n",
    "        predicted_labels = label_encoder.inverse_transform(predicted_categories)\n",
    "        accuracy = accuracy_score(y_val, predicted_categories)\n",
    "        results.append((frac, accuracy))\n",
    "        \n",
    "    return results"
   ],
   "metadata": {
    "collapsed": false,
    "ExecuteTime": {
     "end_time": "2024-03-19T14:44:36.652610Z",
     "start_time": "2024-03-19T14:44:36.648209Z"
    }
   },
   "id": "1b4bc74b3edce55a",
   "execution_count": 52
  },
  {
   "cell_type": "code",
   "outputs": [],
   "source": [
    "# function to integrate training models and returning their accuracies\n",
    "def train_evaluate_supervised_models(X_data, y_data, fractions):\n",
    "    results = []\n",
    "    for frac in fractions:\n",
    "        X_train_frac, X_val, y_train_frac, y_val = train_test_split(X_data, y_data, train_size=frac)\n",
    "        svm_model = SVC()\n",
    "        rf_model = RandomForestClassifier(n_estimators=100)\n",
    "        svm_model.fit(X_train_frac, y_train_frac)\n",
    "        rf_model.fit(X_train_frac, y_train_frac)\n",
    "        y_pred_svm = svm_model.predict(X_val)\n",
    "        y_pred_rf = rf_model.predict(X_val)\n",
    "        \n",
    "        accuracy_svm = accuracy_score(y_val, y_pred_svm)\n",
    "        accuracy_rf = accuracy_score(y_val, y_pred_rf)\n",
    "        \n",
    "        results.append((frac, accuracy_svm, accuracy_rf))\n",
    "    return results"
   ],
   "metadata": {
    "collapsed": false,
    "ExecuteTime": {
     "end_time": "2024-03-19T14:46:07.752986Z",
     "start_time": "2024-03-19T14:46:07.749185Z"
    }
   },
   "id": "13c357f159f57061",
   "execution_count": 55
  },
  {
   "cell_type": "code",
   "outputs": [],
   "source": [
    "def plot_confusion_matrix(y_true, y_pred, labels):\n",
    "    cm = confusion_matrix(y_true, y_pred)\n",
    "    plt.figure(figsize=(10, 6))\n",
    "    sns.heatmap(cm, annot=True, fmt=\"d\", cmap=\"Blues\", xticklabels=labels, yticklabels=labels)\n",
    "    plt.xlabel(\"Predicted\")\n",
    "    plt.ylabel(\"True\")\n",
    "    plt.title(\"Confusion Matrix\")\n",
    "    plt.show()"
   ],
   "metadata": {
    "collapsed": false
   },
   "id": "479ecacb9feb4fb1"
  },
  {
   "cell_type": "code",
   "outputs": [
    {
     "name": "stdout",
     "output_type": "stream",
     "text": [
      "Fraction: 10.0% - Accuracy: 0.8770\n",
      "Fraction: 20.0% - Accuracy: 0.8784\n",
      "Fraction: 50.0% - Accuracy: 0.8953\n",
      "Fraction: 80.0% - Accuracy: 0.8893\n"
     ]
    }
   ],
   "source": [
    "# encode the labels to numbers\n",
    "label_encoder = LabelEncoder()\n",
    "numerical_labels = label_encoder.fit_transform(df_train['Category'])\n",
    "# vectorize the cleaned texts\n",
    "tfidf_vectorizer = TfidfVectorizer(max_features=1000)\n",
    "tfidf_matrix = tfidf_vectorizer.fit_transform(df_train['Cleaned_Text'])\n",
    "\n",
    "fractions = [0.1, 0.2, 0.5, 0.8]\n",
    "results = train_evaluate_unsupervised_models(tfidf_matrix, numerical_labels, fractions)\n",
    "for frac, accuracy in results:\n",
    "    print(f\"Fraction: {frac*100}% - Accuracy: {accuracy:.4f}\")"
   ],
   "metadata": {
    "collapsed": false,
    "ExecuteTime": {
     "end_time": "2024-03-19T14:46:21.027154Z",
     "start_time": "2024-03-19T14:46:20.704828Z"
    }
   },
   "id": "e443171bb1bee1d5",
   "execution_count": 57
  },
  {
   "cell_type": "code",
   "outputs": [
    {
     "name": "stdout",
     "output_type": "stream",
     "text": [
      "Fraction: 10.0% - SVM Accuracy: 0.9247, Random Forest Accuracy: 0.9150\n",
      "Fraction: 20.0% - SVM Accuracy: 0.9362, Random Forest Accuracy: 0.9220\n",
      "Fraction: 50.0% - SVM Accuracy: 0.9557, Random Forest Accuracy: 0.9383\n",
      "Fraction: 80.0% - SVM Accuracy: 0.9463, Random Forest Accuracy: 0.9430\n"
     ]
    }
   ],
   "source": [
    "tfidf_vectorizer = TfidfVectorizer(max_features=1000)\n",
    "X_tfidf = tfidf_vectorizer.fit_transform(df_train[\"Cleaned_Text\"])\n",
    "\n",
    "label_encoder = LabelEncoder()\n",
    "y_encoded = label_encoder.fit_transform(df_train[\"Category\"])\n",
    "fractions = [0.1, 0.2, 0.5, 0.8]\n",
    "results = train_evaluate_supervised_models(X_tfidf, y_encoded, fractions)\n",
    "for frac, accuracy_svm, accuracy_rf in results:\n",
    "    print(f\"Fraction: {frac*100}% - SVM Accuracy: {accuracy_svm:.4f}, Random Forest Accuracy: {accuracy_rf:.4f}\")"
   ],
   "metadata": {
    "collapsed": false,
    "ExecuteTime": {
     "end_time": "2024-03-19T14:46:33.383180Z",
     "start_time": "2024-03-19T14:46:30.247216Z"
    }
   },
   "id": "8f17a053e5450709",
   "execution_count": 58
  },
  {
   "cell_type": "code",
   "outputs": [],
   "source": [],
   "metadata": {
    "collapsed": false
   },
   "id": "c6e84fdbdc7c8d76"
  }
 ],
 "metadata": {
  "kernelspec": {
   "display_name": "Python 3 (ipykernel)",
   "language": "python",
   "name": "python3"
  },
  "language_info": {
   "codemirror_mode": {
    "name": "ipython",
    "version": 3
   },
   "file_extension": ".py",
   "mimetype": "text/x-python",
   "name": "python",
   "nbconvert_exporter": "python",
   "pygments_lexer": "ipython3",
   "version": "3.11.3"
  }
 },
 "nbformat": 4,
 "nbformat_minor": 5
}
